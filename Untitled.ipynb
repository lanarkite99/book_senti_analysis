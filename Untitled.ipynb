{
 "cells": [
  {
   "cell_type": "markdown",
   "id": "f1e191c5-4227-447e-8534-0af9b755e73b",
   "metadata": {},
   "source": [
    "# load the book"
   ]
  },
  {
   "cell_type": "code",
   "execution_count": 1,
   "id": "67e9611f-9ac0-496d-b359-06f96822247b",
   "metadata": {
    "jupyter": {
     "source_hidden": true
    }
   },
   "outputs": [],
   "source": [
    "with open(\"miracle_in_the_andes.txt\",\"r\",encoding=\"UTF-8\") as file:\n",
    "    book=file.read()"
   ]
  },
  {
   "cell_type": "markdown",
   "id": "3b030923-f2ce-4dd4-9758-11d9f3407c7a",
   "metadata": {},
   "source": [
    "# get the words from book in a list with corresponding ocurrences"
   ]
  },
  {
   "cell_type": "code",
   "execution_count": 2,
   "id": "a6773225-9383-4a87-b88f-f1287dc5eb7e",
   "metadata": {
    "jupyter": {
     "source_hidden": true
    }
   },
   "outputs": [],
   "source": [
    "import re\n",
    "pattern=re.compile(\"[a-zA-Z]+\")\n",
    "res=re.findall(pattern,book.lower())"
   ]
  },
  {
   "cell_type": "code",
   "execution_count": 3,
   "id": "8dfe8d75-3048-4abf-8b66-938ef29c4704",
   "metadata": {},
   "outputs": [],
   "source": [
    "dict={}\n",
    "for word in res:\n",
    "    if word in dict.keys(): \n",
    "        dict[word]=dict[word]+1\n",
    "    else:\n",
    "        dict[word]=1"
   ]
  },
  {
   "cell_type": "code",
   "execution_count": 4,
   "id": "5933bbe8-8f3d-4fc9-a4d9-f863d288ac12",
   "metadata": {},
   "outputs": [],
   "source": [
    "word_list=[(key,value) for (value,key) in dict.items()]"
   ]
  },
  {
   "cell_type": "markdown",
   "id": "0075d000-bdee-4cdd-862a-71c6a610a5d3",
   "metadata": {},
   "source": [
    "# get the nltk library to get the english stopwords"
   ]
  },
  {
   "cell_type": "code",
   "execution_count": 5,
   "id": "fc996ecc-9e8d-46ae-b48e-3f19951c14e7",
   "metadata": {},
   "outputs": [
    {
     "name": "stderr",
     "output_type": "stream",
     "text": [
      "[nltk_data] Downloading package stopwords to\n",
      "[nltk_data]     C:\\Users\\HP.000\\AppData\\Roaming\\nltk_data...\n",
      "[nltk_data]   Package stopwords is already up-to-date!\n"
     ]
    }
   ],
   "source": [
    "import nltk\n",
    "from nltk.corpus import stopwords\n",
    "nltk.download('stopwords')\n",
    "eng_sw=stopwords.words(\"english\")"
   ]
  },
  {
   "cell_type": "markdown",
   "id": "56601a78-6e22-43b4-836f-4a4cd39b2c00",
   "metadata": {},
   "source": [
    "# filter the word list by removing english stopwords"
   ]
  },
  {
   "cell_type": "code",
   "execution_count": 9,
   "id": "e31ad758-04e9-4ecd-996b-8ce46e259a12",
   "metadata": {},
   "outputs": [],
   "source": [
    "filt_words=[]\n",
    "for count,word in word_list:\n",
    "    if word not in eng_sw:\n",
    "        filt_words.append((count,word))\n"
   ]
  },
  {
   "cell_type": "markdown",
   "id": "4f503413-0047-41ab-8f8c-68b071aa7115",
   "metadata": {},
   "source": [
    "# sentiment analysis"
   ]
  },
  {
   "cell_type": "code",
   "execution_count": 23,
   "id": "734d9e3b-ad57-4357-be91-f04a9b4f280a",
   "metadata": {},
   "outputs": [
    {
     "name": "stderr",
     "output_type": "stream",
     "text": [
      "[nltk_data] Downloading package vader_lexicon to\n",
      "[nltk_data]     C:\\Users\\HP.000\\AppData\\Roaming\\nltk_data...\n"
     ]
    }
   ],
   "source": [
    "nltk.download(\"vader_lexicon\")\n",
    "from nltk.sentiment import SentimentIntensityAnalyzer"
   ]
  },
  {
   "cell_type": "code",
   "execution_count": 25,
   "id": "ac1f11b2-e710-41fa-8c48-b8a4839ef977",
   "metadata": {},
   "outputs": [
    {
     "data": {
      "text/plain": [
       "{'neg': 0.0, 'neu': 0.408, 'pos': 0.592, 'compound': 0.4404}"
      ]
     },
     "execution_count": 25,
     "metadata": {},
     "output_type": "execute_result"
    }
   ],
   "source": [
    "analyzer=SentimentIntensityAnalyzer()\n",
    "analyzer.polarity_scores(\"you are good\")"
   ]
  },
  {
   "cell_type": "code",
   "execution_count": 27,
   "id": "56ba8c77-83b1-4359-813c-ed59372b4a40",
   "metadata": {},
   "outputs": [
    {
     "data": {
      "text/plain": [
       "{'neg': 0.116, 'neu': 0.76, 'pos': 0.125, 'compound': 1.0}"
      ]
     },
     "execution_count": 27,
     "metadata": {},
     "output_type": "execute_result"
    }
   ],
   "source": [
    "analyzer.polarity_scores(book)"
   ]
  },
  {
   "cell_type": "markdown",
   "id": "3345af0e-1278-4fae-8f4f-824d13a235c5",
   "metadata": {},
   "source": [
    "### chapter sentiment analysis"
   ]
  },
  {
   "cell_type": "code",
   "execution_count": 28,
   "id": "91d72fb7-6f79-4dd5-a9e3-e6e1244f988f",
   "metadata": {},
   "outputs": [],
   "source": [
    "import re"
   ]
  },
  {
   "cell_type": "code",
   "execution_count": 39,
   "id": "9f225907-3cef-4e9e-b8e6-187448ef5a71",
   "metadata": {},
   "outputs": [],
   "source": [
    "pattern=re.compile(\"Chapter [0-9]+\")\n",
    "chapters=re.split(pattern,book)"
   ]
  },
  {
   "cell_type": "code",
   "execution_count": 42,
   "id": "8f535b6c-cdc0-4463-a89f-aa1bb09f11a0",
   "metadata": {},
   "outputs": [
    {
     "name": "stdout",
     "output_type": "stream",
     "text": [
      "1 {'neg': 0.145, 'neu': 0.751, 'pos': 0.105, 'compound': -0.9999}\n",
      "2 {'neg': 0.141, 'neu': 0.721, 'pos': 0.138, 'compound': -0.9963}\n",
      "3 {'neg': 0.118, 'neu': 0.742, 'pos': 0.141, 'compound': 0.9997}\n",
      "4 {'neg': 0.124, 'neu': 0.761, 'pos': 0.115, 'compound': -0.9979}\n",
      "5 {'neg': 0.136, 'neu': 0.761, 'pos': 0.103, 'compound': -0.9999}\n",
      "6 {'neg': 0.12, 'neu': 0.786, 'pos': 0.094, 'compound': -0.9998}\n",
      "7 {'neg': 0.097, 'neu': 0.824, 'pos': 0.079, 'compound': -0.9996}\n",
      "8 {'neg': 0.086, 'neu': 0.733, 'pos': 0.181, 'compound': 1.0}\n"
     ]
    }
   ],
   "source": [
    "chapters=chapters[1:]\n",
    "for num,chapter in enumerate(chapters):\n",
    "    analysis=analyzer.polarity_scores(chapter)\n",
    "    print(num+1,analysis)"
   ]
  }
 ],
 "metadata": {
  "kernelspec": {
   "display_name": "Python 3 (ipykernel)",
   "language": "python",
   "name": "python3"
  },
  "language_info": {
   "codemirror_mode": {
    "name": "ipython",
    "version": 3
   },
   "file_extension": ".py",
   "mimetype": "text/x-python",
   "name": "python",
   "nbconvert_exporter": "python",
   "pygments_lexer": "ipython3",
   "version": "3.11.5"
  }
 },
 "nbformat": 4,
 "nbformat_minor": 5
}
